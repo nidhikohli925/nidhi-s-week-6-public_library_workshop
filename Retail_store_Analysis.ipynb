{
 "cells": [
  {
   "cell_type": "code",
   "execution_count": 85,
   "id": "427104a9-b3de-407f-9f05-2ca3d2ef8226",
   "metadata": {},
   "outputs": [],
   "source": [
    "#pip"
   ]
  },
  {
   "cell_type": "code",
   "execution_count": 86,
   "id": "ff5ca77a-6b1f-410d-a710-58aaf43cd4b9",
   "metadata": {},
   "outputs": [
    {
     "name": "stdout",
     "output_type": "stream",
     "text": [
      " Volume in drive C is Windows\n",
      " Volume Serial Number is 7ED7-FFAB\n",
      "\n",
      " Directory of C:\\Users\\prati\\DAB July 25\\python\\week 8 assignment\n",
      "\n",
      "10/02/2025  05:41 AM    <DIR>          .\n",
      "10/01/2025  05:43 AM    <DIR>          ..\n",
      "10/01/2025  08:10 PM    <DIR>          .ipynb_checkpoints\n",
      "10/01/2025  08:54 PM                 0 customers.db\n",
      "09/30/2025  03:14 PM            52,342 Pandas_Retail_Store_Analysis.ipynb\n",
      "10/02/2025  05:41 AM            71,392 Retail_store_Analysis.ipynb\n",
      "10/01/2025  09:08 PM            11,655 SQL Example.ipynb\n",
      "09/26/2025  03:12 PM             2,937 wk8_customers.csv\n",
      "09/26/2025  03:12 PM             1,830 wk8_inventory.csv\n",
      "09/26/2025  03:12 PM             2,090 wk8_products.csv\n",
      "09/26/2025  03:12 PM             1,592 wk8_sales.csv\n",
      "09/26/2025  03:12 PM             1,250 wk8_stores.csv\n",
      "               9 File(s)        145,088 bytes\n",
      "               3 Dir(s)  816,583,049,216 bytes free\n"
     ]
    }
   ],
   "source": [
    "ls"
   ]
  },
  {
   "cell_type": "code",
   "execution_count": 87,
   "id": "2ffb5c2a-3458-426e-b057-67844bc8c219",
   "metadata": {},
   "outputs": [],
   "source": [
    "# Part 1: Data Loading and Exploration\n",
    "\n",
    "import os"
   ]
  },
  {
   "cell_type": "code",
   "execution_count": 88,
   "id": "3df6faf0-8b78-4bfe-9154-1f9935cd9f39",
   "metadata": {},
   "outputs": [
    {
     "data": {
      "text/plain": [
       "'C:\\\\Users\\\\prati\\\\DAB July 25\\\\python\\\\week 8 assignment'"
      ]
     },
     "execution_count": 88,
     "metadata": {},
     "output_type": "execute_result"
    }
   ],
   "source": [
    "os.getcwd()"
   ]
  },
  {
   "cell_type": "code",
   "execution_count": 89,
   "id": "6789ab05-2b11-4d92-8abe-4af5d4e8bf5e",
   "metadata": {},
   "outputs": [],
   "source": [
    "import pandas as pd"
   ]
  },
  {
   "cell_type": "code",
   "execution_count": 90,
   "id": "a0b4997c-afc1-4770-ae57-cefd3f6b4344",
   "metadata": {},
   "outputs": [],
   "source": [
    "\n",
    "# 1 Loading Data: Import all CSV files into Pandas DataFrame\n",
    "\n",
    "customers_df = pd.read_csv(\"wk8_customers.csv\")"
   ]
  },
  {
   "cell_type": "code",
   "execution_count": 91,
   "id": "e78118f3-41a0-4826-86ff-f915145f9b26",
   "metadata": {},
   "outputs": [],
   "source": [
    "inventory_df = pd.read_csv(\"wk8_inventory.csv\")"
   ]
  },
  {
   "cell_type": "code",
   "execution_count": 92,
   "id": "1a35b1f1-dbca-46d8-b8c5-f72595d2cc78",
   "metadata": {},
   "outputs": [],
   "source": [
    "products_df = pd.read_csv(\"wk8_products.csv\")"
   ]
  },
  {
   "cell_type": "code",
   "execution_count": 93,
   "id": "dc7cec60-2e6e-4f90-8f3b-4d570e3606b6",
   "metadata": {},
   "outputs": [],
   "source": [
    "sales_df = pd.read_csv(\"wk8_sales.csv\")"
   ]
  },
  {
   "cell_type": "code",
   "execution_count": 94,
   "id": "2e6fc70b-f5b6-4c02-b291-9031cdca8b59",
   "metadata": {},
   "outputs": [],
   "source": [
    "stores_df = pd.read_csv(\"wk8_stores.csv\")"
   ]
  },
  {
   "cell_type": "code",
   "execution_count": 95,
   "id": "1b54f181-e0c7-418a-bd6d-49b1eab0ffc4",
   "metadata": {},
   "outputs": [
    {
     "name": "stdout",
     "output_type": "stream",
     "text": [
      "\n",
      "--- wk8_customers.csv ---\n",
      "   customer_id first_name last_name                  email           phone  \\\n",
      "0            1      James     Smith  james.smith@gmail.com    555-123-4567   \n",
      "1            2       Mary   Johnson                    NaN    212.555.6789   \n",
      "2            3       John  Williams    jwilliams@yahoo.com  (555) 987-6543   \n",
      "3            4   Patricia     Brown     pbrown@hotmail.com      5551234567   \n",
      "4            5     Robert     Jones     rjones23@gmail.com    555-987-3456   \n",
      "\n",
      "        address         city       state    zip_code registration_date  \n",
      "0   123 Main St     New York          NY       10001        2021-03-15  \n",
      "1  456 Park Ave     New York          NY       10022        2020-11-02  \n",
      "2  789 Broadway  Los Angeles  California  90001-1234        2021-05-20  \n",
      "3    321 Elm St      Chicago          IL       60601               NaN  \n",
      "4   555 Pine St      Houston          TX       77002        2020-09-12  \n",
      "\n",
      "--- wk8_inventory.csv ---\n",
      "   inventory_id  store_id  product_id  quantity_in_stock last_restock_date  \\\n",
      "0             1         1           1                 25        2022-10-15   \n",
      "1             2         1           5                 42        2022-11-02   \n",
      "2             3         1          10                 18        2022-09-30   \n",
      "3             4         1          15                  5        2022-10-20   \n",
      "4             5         1          20                 12               NaN   \n",
      "\n",
      "   reorder_level  \n",
      "0           10.0  \n",
      "1           15.0  \n",
      "2            8.0  \n",
      "3           10.0  \n",
      "4           15.0  \n",
      "\n",
      "--- wk8_products.csv ---\n",
      "   product_id        product_name     category  subcategory    brand    price  \\\n",
      "0           1     Apple iPhone 13  Electronics  Smartphones    Apple   899.99   \n",
      "1           2  Samsung Galaxy S21  electronics  Smartphones  Samsung   799.99   \n",
      "2           3     Sony WH-1000XM4  ELECTRONICS   Headphones     Sony   349.99   \n",
      "3           4         Dell XPS 13  Electronics      Laptops     Dell  1299.99   \n",
      "4           5    Nike Classic Tee     Clothing       Shirts     Nike    24.99   \n",
      "\n",
      "     cost  weight  \n",
      "0  649.99    0.45  \n",
      "1  539.99    0.50  \n",
      "2  210.00    0.60  \n",
      "3  899.99    2.80  \n",
      "4   12.50    0.20  \n",
      "\n",
      "--- wk8_sales.csv ---\n",
      "   sale_id        date  store_id  customer_id  product_id  quantity    total  \\\n",
      "0        1  2022-01-15       3.0           12           5         2    49.98   \n",
      "1        2  2022-01-16       1.0            5          10         1    49.99   \n",
      "2        3  2022-01-18       2.0            8           3         1   349.99   \n",
      "3        4  2022-01-20       4.0           20           7         1   349.99   \n",
      "4        5  2022-01-22       5.0            3          15         1  1599.99   \n",
      "\n",
      "  payment_method  \n",
      "0    Credit Card  \n",
      "1    credit card  \n",
      "2     DEBIT CARD  \n",
      "3           Cash  \n",
      "4             CC  \n",
      "\n",
      "--- wk8_stores.csv ---\n",
      "   store_id         store_name           address         city  state zip_code  \\\n",
      "0         1        City Center   123 Retail Blvd     New York     NY    10001   \n",
      "1         2    Mall of Chicago  456 Shopping Ave      Chicago     IL    60611   \n",
      "2         3  Los Angeles Plaza   789 Commerce St  Los Angeles     CA    90001   \n",
      "3         4   Houston Galleria       321 Main St      Houston  Texas    77002   \n",
      "4         5     Phoenix Outlet     654 Desert Rd      Phoenix     AZ    85001   \n",
      "\n",
      "      region  size_sqft opening_date  \n",
      "0  Northeast    32500.0   2005-05-20  \n",
      "1    Midwest    45000.0   2007-08-15  \n",
      "2       West    55000.0   2004-03-10  \n",
      "3  Southwest        NaN   2008-11-05  \n",
      "4  Southwest    18500.0   2010-06-30  \n"
     ]
    }
   ],
   "source": [
    "# importing multiple files and starting your analysis\n",
    "\n",
    "import pandas as pd\n",
    "import glob\n",
    "\n",
    "#1. Get all CSV file paths from a folder\n",
    "csv_files = glob.glob(\"*.csv\")\n",
    "\n",
    "#2. Create a dictionary of DataFrames\n",
    "dataframes = {file: pd.read_csv(file) for file in csv_files}\n",
    "\n",
    "#3. Display the first few rows of each DataFrame\n",
    "for file, df in dataframes.items():\n",
    "    print(f\"\\n--- {file} ---\")\n",
    "    print(df.head())"
   ]
  },
  {
   "cell_type": "code",
   "execution_count": 96,
   "id": "b38404ce-49d7-4975-8e69-24a90f263d61",
   "metadata": {},
   "outputs": [
    {
     "name": "stdout",
     "output_type": "stream",
     "text": [
      "dict_keys(['wk8_customers.csv', 'wk8_inventory.csv', 'wk8_products.csv', 'wk8_sales.csv', 'wk8_stores.csv'])\n"
     ]
    }
   ],
   "source": [
    "#Checking Which DataFrames You Loaded\n",
    "\n",
    "#After you’ve imported all your CSVs into the dataframes dictionary, you can see all the file names (the keys) by running this line in your notebook:\n",
    "#This will show you the list of all CSVs you loaded (e.g. wk8-sales.csv, wk8-customers.csv, etc.), so you know what names to use when accessing each DataFrame.\n",
    "\n",
    "#See all keys (file names)\n",
    "print(dataframes.keys())"
   ]
  },
  {
   "cell_type": "code",
   "execution_count": 97,
   "id": "55f1a7ce-f8f1-41af-9a78-b0c1f350eec0",
   "metadata": {},
   "outputs": [
    {
     "name": "stdout",
     "output_type": "stream",
     "text": [
      "   inventory_id  store_id  product_id  quantity_in_stock last_restock_date  \\\n",
      "0             1         1           1                 25        2022-10-15   \n",
      "1             2         1           5                 42        2022-11-02   \n",
      "2             3         1          10                 18        2022-09-30   \n",
      "3             4         1          15                  5        2022-10-20   \n",
      "4             5         1          20                 12               NaN   \n",
      "\n",
      "   reorder_level  \n",
      "0           10.0  \n",
      "1           15.0  \n",
      "2            8.0  \n",
      "3           10.0  \n",
      "4           15.0  \n",
      "   sale_id        date  store_id  customer_id  product_id  quantity    total  \\\n",
      "0        1  2022-01-15       3.0           12           5         2    49.98   \n",
      "1        2  2022-01-16       1.0            5          10         1    49.99   \n",
      "2        3  2022-01-18       2.0            8           3         1   349.99   \n",
      "3        4  2022-01-20       4.0           20           7         1   349.99   \n",
      "4        5  2022-01-22       5.0            3          15         1  1599.99   \n",
      "\n",
      "  payment_method  \n",
      "0    Credit Card  \n",
      "1    credit card  \n",
      "2     DEBIT CARD  \n",
      "3           Cash  \n",
      "4             CC  \n",
      "   store_id         store_name           address         city  state zip_code  \\\n",
      "0         1        City Center   123 Retail Blvd     New York     NY    10001   \n",
      "1         2    Mall of Chicago  456 Shopping Ave      Chicago     IL    60611   \n",
      "2         3  Los Angeles Plaza   789 Commerce St  Los Angeles     CA    90001   \n",
      "3         4   Houston Galleria       321 Main St      Houston  Texas    77002   \n",
      "4         5     Phoenix Outlet     654 Desert Rd      Phoenix     AZ    85001   \n",
      "\n",
      "      region  size_sqft opening_date  \n",
      "0  Northeast    32500.0   2005-05-20  \n",
      "1    Midwest    45000.0   2007-08-15  \n",
      "2       West    55000.0   2004-03-10  \n",
      "3  Southwest        NaN   2008-11-05  \n",
      "4  Southwest    18500.0   2010-06-30  \n",
      "   customer_id first_name last_name                  email           phone  \\\n",
      "0            1      James     Smith  james.smith@gmail.com    555-123-4567   \n",
      "1            2       Mary   Johnson                    NaN    212.555.6789   \n",
      "2            3       John  Williams    jwilliams@yahoo.com  (555) 987-6543   \n",
      "3            4   Patricia     Brown     pbrown@hotmail.com      5551234567   \n",
      "4            5     Robert     Jones     rjones23@gmail.com    555-987-3456   \n",
      "\n",
      "        address         city       state    zip_code registration_date  \n",
      "0   123 Main St     New York          NY       10001        2021-03-15  \n",
      "1  456 Park Ave     New York          NY       10022        2020-11-02  \n",
      "2  789 Broadway  Los Angeles  California  90001-1234        2021-05-20  \n",
      "3    321 Elm St      Chicago          IL       60601               NaN  \n",
      "4   555 Pine St      Houston          TX       77002        2020-09-12  \n",
      "   product_id        product_name     category  subcategory    brand    price  \\\n",
      "0           1     Apple iPhone 13  Electronics  Smartphones    Apple   899.99   \n",
      "1           2  Samsung Galaxy S21  electronics  Smartphones  Samsung   799.99   \n",
      "2           3     Sony WH-1000XM4  ELECTRONICS   Headphones     Sony   349.99   \n",
      "3           4         Dell XPS 13  Electronics      Laptops     Dell  1299.99   \n",
      "4           5    Nike Classic Tee     Clothing       Shirts     Nike    24.99   \n",
      "\n",
      "     cost  weight  \n",
      "0  649.99    0.45  \n",
      "1  539.99    0.50  \n",
      "2  210.00    0.60  \n",
      "3  899.99    2.80  \n",
      "4   12.50    0.20  \n"
     ]
    }
   ],
   "source": [
    "#Renaming Your DataFrames\n",
    "\n",
    "#After you check the file names with print(dataframes.keys()), you can rename each DataFrame to an easier variable name. This way you don’t have to type the full file name every time.\n",
    "\n",
    "# Rename each DataFrame to an easier variable name\n",
    "inventory_df = dataframes[\"wk8_inventory.csv\"]\n",
    "sales_df = dataframes[\"wk8_sales.csv\"]\n",
    "stores_df = dataframes[\"wk8_stores.csv\"]\n",
    "customers_df = dataframes[\"wk8_customers.csv\"]\n",
    "products_df = dataframes[\"wk8_products.csv\"]\n",
    "\n",
    "# check first rows to make sure everything loaded correctly\n",
    "print(inventory_df.head())\n",
    "print(sales_df.head())\n",
    "print(stores_df.head())\n",
    "print(customers_df.head())\n",
    "print(products_df.head())\n",
    "\n"
   ]
  },
  {
   "cell_type": "code",
   "execution_count": 98,
   "id": "52d759a7-0da1-499d-bf52-f005961f6e69",
   "metadata": {},
   "outputs": [
    {
     "name": "stdout",
     "output_type": "stream",
     "text": [
      "<class 'pandas.core.frame.DataFrame'>\n",
      "RangeIndex: 31 entries, 0 to 30\n",
      "Data columns (total 10 columns):\n",
      " #   Column             Non-Null Count  Dtype \n",
      "---  ------             --------------  ----- \n",
      " 0   customer_id        31 non-null     int64 \n",
      " 1   first_name         31 non-null     object\n",
      " 2   last_name          31 non-null     object\n",
      " 3   email              28 non-null     object\n",
      " 4   phone              29 non-null     object\n",
      " 5   address            31 non-null     object\n",
      " 6   city               31 non-null     object\n",
      " 7   state              31 non-null     object\n",
      " 8   zip_code           30 non-null     object\n",
      " 9   registration_date  28 non-null     object\n",
      "dtypes: int64(1), object(9)\n",
      "memory usage: 2.6+ KB\n"
     ]
    },
    {
     "data": {
      "text/plain": [
       "(31, 10)"
      ]
     },
     "execution_count": 98,
     "metadata": {},
     "output_type": "execute_result"
    }
   ],
   "source": [
    "#After you’ve renamed your DataFrames, you can start analyzing.\n",
    "#Exploratory Analysis: Use descriptive statistics to get a feel for the data:\n",
    "#Obtain summary statistics of numerical columns in the products, sales, and inventory dataframes\n",
    "#Check for missing values in all dataframes\n",
    "#Display the data types of each column in all dataframes\n",
    "\n",
    "\n",
    "# Looking at the customers table\n",
    "\n",
    "customers_df.info() # shows structure of the table\n",
    "customers_df.describe() # summary statistics\n",
    "customers_df.isnull().sum() # missing values per column\n",
    "customers_df.shape\n",
    "\n",
    "\n"
   ]
  },
  {
   "cell_type": "code",
   "execution_count": 99,
   "id": "35d0c8de-13df-4dbb-9b25-0bae3ff00945",
   "metadata": {},
   "outputs": [
    {
     "name": "stdout",
     "output_type": "stream",
     "text": [
      "<class 'pandas.core.frame.DataFrame'>\n",
      "RangeIndex: 75 entries, 0 to 74\n",
      "Data columns (total 6 columns):\n",
      " #   Column             Non-Null Count  Dtype  \n",
      "---  ------             --------------  -----  \n",
      " 0   inventory_id       75 non-null     int64  \n",
      " 1   store_id           75 non-null     int64  \n",
      " 2   product_id         75 non-null     int64  \n",
      " 3   quantity_in_stock  75 non-null     int64  \n",
      " 4   last_restock_date  66 non-null     object \n",
      " 5   reorder_level      69 non-null     float64\n",
      "dtypes: float64(1), int64(4), object(1)\n",
      "memory usage: 3.6+ KB\n"
     ]
    },
    {
     "data": {
      "text/plain": [
       "(75, 6)"
      ]
     },
     "execution_count": 99,
     "metadata": {},
     "output_type": "execute_result"
    }
   ],
   "source": [
    "# Looking at the inventory table\n",
    "\n",
    "inventory_df\n",
    "inventory_df.head()\n",
    "inventory_df.tail()\n",
    "inventory_df.describe()\n",
    "inventory_df.info()\n",
    "inventory_df.shape"
   ]
  },
  {
   "cell_type": "code",
   "execution_count": 100,
   "id": "82365f86-64b7-4e82-a645-1fa7929c3629",
   "metadata": {},
   "outputs": [
    {
     "data": {
      "text/plain": [
       "inventory_id         0\n",
       "store_id             0\n",
       "product_id           0\n",
       "quantity_in_stock    0\n",
       "last_restock_date    9\n",
       "reorder_level        6\n",
       "dtype: int64"
      ]
     },
     "execution_count": 100,
     "metadata": {},
     "output_type": "execute_result"
    }
   ],
   "source": [
    "inventory_df.isnull().sum()"
   ]
  },
  {
   "cell_type": "code",
   "execution_count": 101,
   "id": "1669b038-3e0e-4d37-aa56-bb9dd7749627",
   "metadata": {},
   "outputs": [
    {
     "name": "stdout",
     "output_type": "stream",
     "text": [
      "<class 'pandas.core.frame.DataFrame'>\n",
      "RangeIndex: 40 entries, 0 to 39\n",
      "Data columns (total 8 columns):\n",
      " #   Column          Non-Null Count  Dtype  \n",
      "---  ------          --------------  -----  \n",
      " 0   sale_id         40 non-null     int64  \n",
      " 1   date            39 non-null     object \n",
      " 2   store_id        39 non-null     float64\n",
      " 3   customer_id     40 non-null     int64  \n",
      " 4   product_id      40 non-null     int64  \n",
      " 5   quantity        40 non-null     int64  \n",
      " 6   total           40 non-null     float64\n",
      " 7   payment_method  39 non-null     object \n",
      "dtypes: float64(2), int64(4), object(2)\n",
      "memory usage: 2.6+ KB\n"
     ]
    },
    {
     "data": {
      "text/plain": [
       "(40, 8)"
      ]
     },
     "execution_count": 101,
     "metadata": {},
     "output_type": "execute_result"
    }
   ],
   "source": [
    "# Looking at the sales table\n",
    "\n",
    "sales_df\n",
    "sales_df.head()\n",
    "sales_df.tail()\n",
    "sales_df.describe()\n",
    "sales_df.info()\n",
    "sales_df.shape"
   ]
  },
  {
   "cell_type": "code",
   "execution_count": 102,
   "id": "c55d895e-8868-4897-936a-43f4cec887cf",
   "metadata": {},
   "outputs": [
    {
     "data": {
      "text/plain": [
       "sale_id           0\n",
       "date              1\n",
       "store_id          1\n",
       "customer_id       0\n",
       "product_id        0\n",
       "quantity          0\n",
       "total             0\n",
       "payment_method    1\n",
       "dtype: int64"
      ]
     },
     "execution_count": 102,
     "metadata": {},
     "output_type": "execute_result"
    }
   ],
   "source": [
    "sales_df.isnull().sum()"
   ]
  },
  {
   "cell_type": "code",
   "execution_count": 103,
   "id": "feaec3aa-106a-4f61-b53e-ec81932db8b6",
   "metadata": {},
   "outputs": [
    {
     "name": "stdout",
     "output_type": "stream",
     "text": [
      "\n",
      "--- Customers Data Types ---\n",
      "customer_id           int64\n",
      "first_name           object\n",
      "last_name            object\n",
      "email                object\n",
      "phone                object\n",
      "address              object\n",
      "city                 object\n",
      "state                object\n",
      "zip_code             object\n",
      "registration_date    object\n",
      "dtype: object\n",
      "\n",
      "--- Products Data Types ---\n",
      "product_id        int64\n",
      "product_name     object\n",
      "category         object\n",
      "subcategory      object\n",
      "brand            object\n",
      "price           float64\n",
      "cost            float64\n",
      "weight          float64\n",
      "dtype: object\n",
      "\n",
      "--- Stores Data Types ---\n",
      "store_id          int64\n",
      "store_name       object\n",
      "address          object\n",
      "city             object\n",
      "state            object\n",
      "zip_code         object\n",
      "region           object\n",
      "size_sqft       float64\n",
      "opening_date     object\n",
      "dtype: object\n",
      "\n",
      "--- Sales Data Types ---\n",
      "sale_id             int64\n",
      "date               object\n",
      "store_id          float64\n",
      "customer_id         int64\n",
      "product_id          int64\n",
      "quantity            int64\n",
      "total             float64\n",
      "payment_method     object\n",
      "dtype: object\n",
      "\n",
      "--- Inventory Data Types ---\n",
      "inventory_id           int64\n",
      "store_id               int64\n",
      "product_id             int64\n",
      "quantity_in_stock      int64\n",
      "last_restock_date     object\n",
      "reorder_level        float64\n",
      "dtype: object\n"
     ]
    }
   ],
   "source": [
    "## Display the data types of each column in all dataframes\n",
    "dataframes = {\n",
    "    \"Customers\": customers_df,\n",
    "    \"Products\": products_df,\n",
    "    \"Stores\": stores_df,\n",
    "    \"Sales\": sales_df,\n",
    "    \"Inventory\": inventory_df\n",
    "}\n",
    "\n",
    "for Customers, df in dataframes.items():\n",
    "    print(f\"\\n--- {Customers} Data Types ---\")\n",
    "    print(df.dtypes)"
   ]
  },
  {
   "cell_type": "code",
   "execution_count": 104,
   "id": "f8adeeb3-afa2-4c7f-a365-e68cf57c1f1c",
   "metadata": {},
   "outputs": [
    {
     "name": "stdout",
     "output_type": "stream",
     "text": [
      "(31, 10)\n",
      "(30, 8)\n",
      "(15, 9)\n",
      "(40, 8)\n",
      "(75, 6)\n"
     ]
    }
   ],
   "source": [
    "## 3 Basic Information Retrieval\n",
    "# How many unique products are there in the product catalog?\n",
    "\n",
    "# there are 30 unique products in produts catalog\n",
    "\n",
    "dataframes = {\n",
    "    \"Customers\": customers_df,\n",
    "    \"Products\": products_df,\n",
    "    \"Stores\": stores_df,\n",
    "    \"Sales\": sales_df,\n",
    "    \"Inventory\": inventory_df\n",
    "}\n",
    "\n",
    "for Products, df in dataframes.items():\n",
    "\n",
    "    print(df.shape)"
   ]
  },
  {
   "cell_type": "code",
   "execution_count": 129,
   "id": "255174a1-a411-4ea0-93dc-bb478d26e1c6",
   "metadata": {},
   "outputs": [
    {
     "name": "stdout",
     "output_type": "stream",
     "text": [
      "\n",
      " number of unique products are there in the product catalog:\n",
      "30\n"
     ]
    }
   ],
   "source": [
    "# another method to find unique values\n",
    "\n",
    "print(f\"\\n number of unique products are there in the product catalog:\")\n",
    "print(products_df['product_id'].nunique())"
   ]
  },
  {
   "cell_type": "code",
   "execution_count": 105,
   "id": "56977b8d-7ac3-474d-b7f5-1d80d0543936",
   "metadata": {},
   "outputs": [
    {
     "name": "stdout",
     "output_type": "stream",
     "text": [
      "Top 5 Most Expensive Products:\n",
      "\n",
      "          product_name    price\n",
      "3          Dell XPS 13  1299.99\n",
      "0      Apple iPhone 13   899.99\n",
      "1   Samsung Galaxy S21   799.99\n",
      "19    Dyson V11 Vacuum   599.99\n",
      "26  Sony PlayStation 5   499.99\n"
     ]
    }
   ],
   "source": [
    "## What are the top 5 most expensive products?\n",
    "\n",
    "expensive_products = products_df.sort_values(by='price', ascending = False).head(5)\n",
    "\n",
    "\n",
    "print(\"Top 5 Most Expensive Products:\\n\")\n",
    "print(expensive_products[[\"product_name\", \"price\"]])"
   ]
  },
  {
   "cell_type": "code",
   "execution_count": 106,
   "id": "e6dbbfc2-a02a-47a5-b66c-d50f22f980f2",
   "metadata": {},
   "outputs": [
    {
     "name": "stdout",
     "output_type": "stream",
     "text": [
      "Store with largest floor space:\n",
      "\n",
      "   store_id  size_sqft\n",
      "2         3    55000.0\n"
     ]
    }
   ],
   "source": [
    "## Which store has the largest floor space?\n",
    "\n",
    "largest_store = stores_df.sort_values(by=\"size_sqft\", ascending=False).head(1)\n",
    "\n",
    "print(\"Store with largest floor space:\\n\")\n",
    "print(largest_store[[\"store_id\", \"size_sqft\"]])\n"
   ]
  },
  {
   "cell_type": "code",
   "execution_count": 107,
   "id": "33379384-7835-4fdd-81ec-440d42f46f1f",
   "metadata": {},
   "outputs": [
    {
     "data": {
      "text/plain": [
       "<Axes: title={'center': 'Number of Customers by State'}, xlabel='state'>"
      ]
     },
     "execution_count": 107,
     "metadata": {},
     "output_type": "execute_result"
    },
    {
     "data": {
      "image/png": "[encoded data removed]",
      "text/plain": [
       "<Figure size 640x480 with 1 Axes>"
      ]
     },
     "metadata": {},
     "output_type": "display_data"
    }
   ],
   "source": [
    "# What is the distribution of customers by state, Plot number of customers per state\n",
    "customers_df[\"state\"].value_counts().plot(kind=\"bar\", title=\"Number of Customers by State\")"
   ]
  },
  {
   "cell_type": "code",
   "execution_count": 108,
   "id": "966e182e-84fb-4ebf-8659-439dc5be5b82",
   "metadata": {
    "scrolled": true
   },
   "outputs": [
    {
     "name": "stdout",
     "output_type": "stream",
     "text": [
      "\n",
      "--- Customers Missing Values ---\n",
      "customer_id          0\n",
      "first_name           0\n",
      "last_name            0\n",
      "email                3\n",
      "phone                2\n",
      "address              0\n",
      "city                 0\n",
      "state                0\n",
      "zip_code             1\n",
      "registration_date    3\n",
      "dtype: int64\n",
      "\n",
      "--- Products Missing Values ---\n",
      "product_id      0\n",
      "product_name    0\n",
      "category        0\n",
      "subcategory     0\n",
      "brand           0\n",
      "price           0\n",
      "cost            0\n",
      "weight          2\n",
      "dtype: int64\n",
      "\n",
      "--- Stores Missing Values ---\n",
      "store_id        0\n",
      "store_name      0\n",
      "address         0\n",
      "city            0\n",
      "state           0\n",
      "zip_code        0\n",
      "region          0\n",
      "size_sqft       2\n",
      "opening_date    1\n",
      "dtype: int64\n",
      "\n",
      "--- Sales Missing Values ---\n",
      "sale_id           0\n",
      "date              1\n",
      "store_id          1\n",
      "customer_id       0\n",
      "product_id        0\n",
      "quantity          0\n",
      "total             0\n",
      "payment_method    1\n",
      "dtype: int64\n",
      "\n",
      "--- Inventory Missing Values ---\n",
      "inventory_id         0\n",
      "store_id             0\n",
      "product_id           0\n",
      "quantity_in_stock    0\n",
      "last_restock_date    9\n",
      "reorder_level        6\n",
      "dtype: int64\n"
     ]
    }
   ],
   "source": [
    "# Part 2: Data Cleaning\n",
    "# 1. Handling Missing Values:\n",
    "#Identify all missing values in each dataset\n",
    "#second method using disctionaries to Check for missing values in all dataframes. this is a relatively shorter method\n",
    "\n",
    "dataframes = {\n",
    "    \"Customers\": customers_df,\n",
    "    \"Products\": products_df,\n",
    "    \"Stores\": stores_df,\n",
    "    \"Sales\": sales_df,\n",
    "    \"Inventory\": inventory_df\n",
    "}\n",
    "for name, df in dataframes.items():\n",
    "    print(f\"\\n--- {name} Missing Values ---\")\n",
    "    print(df.isnull().sum())\n",
    "\n"
   ]
  },
  {
   "cell_type": "code",
   "execution_count": 109,
   "id": "dcd5e826-afdd-4263-9bb2-2b9d07baf9ca",
   "metadata": {},
   "outputs": [],
   "source": [
    "#For numerical columns with missing values, replace them with the column mean\n",
    "#For categorical columns with missing values, replace them with the most frequent value\n",
    "#For date columns with missing values, use forward fill or backward fill as appropriate#For numerical columns with missing values, replace them with the column mean\n"
   ]
  },
  {
   "cell_type": "code",
   "execution_count": 110,
   "id": "2a103966-cde0-4f88-978c-36883b67b5e9",
   "metadata": {},
   "outputs": [
    {
     "name": "stdout",
     "output_type": "stream",
     "text": [
      "0                                                  0.45\n",
      "1                                                   0.5\n",
      "2                                                   0.6\n",
      "3                                                   2.8\n",
      "4                                                   0.2\n",
      "5                                                   0.9\n",
      "6                                                  10.0\n",
      "7                                                   3.5\n",
      "8     <bound method Series.mean of 0      0.45\\n1   ...\n",
      "9                                                   2.0\n",
      "10                                                  1.3\n",
      "11                                                  0.7\n",
      "12                                                  1.5\n",
      "13                                                  0.3\n",
      "14                                                  3.5\n",
      "15                                                  0.5\n",
      "16                                                  1.0\n",
      "17                                                  0.6\n",
      "18                                                  0.4\n",
      "19                                                  6.7\n",
      "20                                                 25.0\n",
      "21    <bound method Series.mean of 0      0.45\\n1   ...\n",
      "22                                                  8.5\n",
      "23                                                 12.0\n",
      "24                                                 0.35\n",
      "25                                                  0.9\n",
      "26                                                  4.5\n",
      "27                                                 15.0\n",
      "28                                                  0.5\n",
      "29                                                  3.2\n",
      "Name: weight, dtype: object\n"
     ]
    }
   ],
   "source": [
    "#For numerical columns with missing values, replace them with the column mean\n",
    "# i have identified 3 tables which have numeric columns - products(weight), stores(sqft), inventory(reorder_level) tables\n",
    "\n",
    "# for Product table\n",
    "\n",
    "mean_value = products_df[\"weight\"].mean\n",
    "\n",
    "#print(mean_value)\n",
    "\n",
    "products_df[\"weight\"].fillna(mean_value)\n",
    "products_df[\"weight\"] = products_df[\"weight\"].fillna(mean_value)\n",
    "print(products_df[\"weight\"])"
   ]
  },
  {
   "cell_type": "code",
   "execution_count": 111,
   "id": "00146ec8-3ff2-4a95-9e0d-c64de0de2715",
   "metadata": {},
   "outputs": [
    {
     "name": "stdout",
     "output_type": "stream",
     "text": [
      "0                                               32500.0\n",
      "1                                               45000.0\n",
      "2                                               55000.0\n",
      "3     <bound method Series.mean of 0     32500.0\\n1 ...\n",
      "4                                               18500.0\n",
      "5                                               22000.0\n",
      "6                                               35000.0\n",
      "7                                               27500.0\n",
      "8                                               42000.0\n",
      "9                                               16500.0\n",
      "10                                              29000.0\n",
      "11                                              31500.0\n",
      "12                                              24000.0\n",
      "13    <bound method Series.mean of 0     32500.0\\n1 ...\n",
      "14                                              20000.0\n",
      "Name: size_sqft, dtype: object\n"
     ]
    }
   ],
   "source": [
    "#For numerical columns with missing values, replace them with the column mean\n",
    "# for Stores table\n",
    "\n",
    "mean_value = stores_df[\"size_sqft\"].mean\n",
    "# print(mean_value)\n",
    "\n",
    "stores_df[\"size_sqft\"].fillna(mean_value)\n",
    "stores_df[\"size_sqft\"] = stores_df[\"size_sqft\"].fillna(mean_value)\n",
    "print(stores_df[\"size_sqft\"])\n"
   ]
  },
  {
   "cell_type": "code",
   "execution_count": 112,
   "id": "419e3ff9-da44-4ae4-af2a-93b5370a3089",
   "metadata": {},
   "outputs": [
    {
     "name": "stdout",
     "output_type": "stream",
     "text": [
      "0     10.0\n",
      "1     15.0\n",
      "2      8.0\n",
      "3     10.0\n",
      "4     15.0\n",
      "      ... \n",
      "70    10.0\n",
      "71     8.0\n",
      "72    10.0\n",
      "73    15.0\n",
      "74    10.0\n",
      "Name: reorder_level, Length: 75, dtype: object\n"
     ]
    }
   ],
   "source": [
    "##For numerical columns with missing values, replace them with the column mean\n",
    "# for inventory table\n",
    "\n",
    "mean_value = inventory_df[\"reorder_level\"].mean   # this code will find the mean value of the column specified\n",
    "# print(mean_value)\n",
    "\n",
    "inventory_df[\"reorder_level\"].fillna(mean_value)   # this code will fill in the missing values temporarily\n",
    "\n",
    "inventory_df['reorder_level'] = inventory_df[\"reorder_level\"].fillna(mean_value) # this code will save the changes made\n",
    "print(inventory_df['reorder_level'])"
   ]
  },
  {
   "cell_type": "code",
   "execution_count": 117,
   "id": "311effd0-f095-417e-bbcb-ddbb05832f3d",
   "metadata": {},
   "outputs": [
    {
     "name": "stdout",
     "output_type": "stream",
     "text": [
      "0                                                 10001\n",
      "1                                                 10022\n",
      "2                                            90001-1234\n",
      "3                                                 60601\n",
      "4                                                 77002\n",
      "5                                                 85001\n",
      "6                                                 19103\n",
      "7                                                 78205\n",
      "8                                                 92101\n",
      "9                                                 75201\n",
      "10                                                95113\n",
      "11    <bound method Series.mode of 0          10001\\...\n",
      "12                                                32202\n",
      "13                                                76102\n",
      "14                                                43215\n",
      "15                                                28202\n",
      "16                                                94102\n",
      "17                                                46204\n",
      "18                                                98101\n",
      "19                                                80202\n",
      "20                                                02108\n",
      "21                                                97201\n",
      "22                                                89101\n",
      "23                                                48226\n",
      "24                                                37201\n",
      "25                                                21202\n",
      "26                                                21202\n",
      "27                                                40202\n",
      "28                                                53202\n",
      "29                                                87102\n",
      "30                                                64101\n",
      "Name: zip_code, dtype: object\n"
     ]
    }
   ],
   "source": [
    "## For categorical columns with missing values, replace them with the most frequent value(mode)\n",
    "# i have identified 2 category columns in customers(zip_code) and sales(payment_method) table\n",
    "# the other sting columns like phone, email, store_id are unique values so vannot be replace with mode values\n",
    "\n",
    "# for customers table\n",
    "\n",
    "mode_value = customers_df[\"zip_code\"].mode\n",
    "#print(mode_value)\n",
    "\n",
    "customers_df[\"zip_code\"].fillna(mode_value)\n",
    "\n",
    "customers_df[\"zip_code\"] = customers_df[\"zip_code\"].fillna(mode_value)\n",
    "print(customers_df[\"zip_code\"])\n"
   ]
  },
  {
   "cell_type": "code",
   "execution_count": 121,
   "id": "b87057d7-da28-4e97-b88f-45e20a22ed7e",
   "metadata": {},
   "outputs": [
    {
     "name": "stdout",
     "output_type": "stream",
     "text": [
      "0                                           Credit Card\n",
      "1                                           credit card\n",
      "2                                            DEBIT CARD\n",
      "3                                                  Cash\n",
      "4                                                    CC\n",
      "5                                                  Visa\n",
      "6                                                PayPal\n",
      "7                                             Apple Pay\n",
      "8                                                 Debit\n",
      "9                                                  Cash\n",
      "10                                          Credit Card\n",
      "11                                                   DC\n",
      "12                                                 cash\n",
      "13                                          Credit Card\n",
      "14                                           Debit Card\n",
      "15                                               paypal\n",
      "16                                             ApplePay\n",
      "17                                                 Cash\n",
      "18                                          Credit Card\n",
      "19                                          CREDIT CARD\n",
      "20                                           Debit Card\n",
      "21                                                   PP\n",
      "22                                                 Cash\n",
      "23                                               Credit\n",
      "24                                            GooglePay\n",
      "25                                          Credit Card\n",
      "26                                           debit card\n",
      "27                                                 Cash\n",
      "28                                               PayPal\n",
      "29                                           Debit Card\n",
      "30                                          Credit Card\n",
      "31                                                 Cash\n",
      "32    <bound method Series.mode of 0     Credit Card...\n",
      "33                                           Debit Card\n",
      "34                                          Credit Card\n",
      "35                                                 Cash\n",
      "36                                               PayPal\n",
      "37                                           google pay\n",
      "38                                          Credit Card\n",
      "39                                                 CASH\n",
      "Name: payment_method, dtype: object\n"
     ]
    }
   ],
   "source": [
    "# for sales table\n",
    "\n",
    "mode_value = sales_df[\"payment_method\"].mode\n",
    "#print(mode_value)\n",
    "\n",
    "\n",
    "sales_df[\"payment_method\"].fillna(mode_value)\n",
    "\n",
    "sales_df[\"payment_method\"] = sales_df[\"payment_method\"].fillna(mode_value)\n",
    "print(sales_df[\"payment_method\"])"
   ]
  },
  {
   "cell_type": "code",
   "execution_count": 122,
   "id": "0e7b4493-8c52-4e23-8e53-c770110f085c",
   "metadata": {},
   "outputs": [
    {
     "name": "stdout",
     "output_type": "stream",
     "text": [
      "\n",
      "--- Customers Missing Values ---\n",
      "customer_id          0\n",
      "first_name           0\n",
      "last_name            0\n",
      "email                3\n",
      "phone                2\n",
      "address              0\n",
      "city                 0\n",
      "state                0\n",
      "zip_code             0\n",
      "registration_date    3\n",
      "dtype: int64\n",
      "\n",
      "--- Products Missing Values ---\n",
      "product_id      0\n",
      "product_name    0\n",
      "category        0\n",
      "subcategory     0\n",
      "brand           0\n",
      "price           0\n",
      "cost            0\n",
      "weight          0\n",
      "dtype: int64\n",
      "\n",
      "--- Stores Missing Values ---\n",
      "store_id        0\n",
      "store_name      0\n",
      "address         0\n",
      "city            0\n",
      "state           0\n",
      "zip_code        0\n",
      "region          0\n",
      "size_sqft       0\n",
      "opening_date    1\n",
      "dtype: int64\n",
      "\n",
      "--- Sales Missing Values ---\n",
      "sale_id           0\n",
      "date              1\n",
      "store_id          1\n",
      "customer_id       0\n",
      "product_id        0\n",
      "quantity          0\n",
      "total             0\n",
      "payment_method    0\n",
      "dtype: int64\n",
      "\n",
      "--- Inventory Missing Values ---\n",
      "inventory_id         0\n",
      "store_id             0\n",
      "product_id           0\n",
      "quantity_in_stock    0\n",
      "last_restock_date    9\n",
      "reorder_level        0\n",
      "dtype: int64\n"
     ]
    }
   ],
   "source": [
    "# once again checking for missing values\n",
    "\n",
    "dataframes = {\n",
    "    \"Customers\": customers_df,\n",
    "    \"Products\": products_df,\n",
    "    \"Stores\": stores_df,\n",
    "    \"Sales\": sales_df,\n",
    "    \"Inventory\": inventory_df\n",
    "}\n",
    "for name, df in dataframes.items():\n",
    "    print(f\"\\n--- {name} Missing Values ---\")\n",
    "    print(df.isnull().sum())\n"
   ]
  },
  {
   "cell_type": "code",
   "execution_count": 123,
   "id": "66e49574-8bd9-4713-85ae-769566cd701c",
   "metadata": {},
   "outputs": [],
   "source": [
    "## For date columns with missing values, use forward fill or backward fill as appropriate\n",
    "\n",
    "# for customers table - registration_date(ffill as it does not matter as the sample is only for 2 years 2020,2021)\n",
    "\n",
    "# for stores table- opening_date (this is unique for that perticular store, so I domt think we should fill in a random date. therefore leaving it as is)\n",
    "\n",
    "# for sales table- date (either ffill or bfill as here ot does not matter as the dates are continuous)\n",
    "\n",
    "# for inventory table- last_restock_date (ffill as all the restock was done in 2022)\n",
    "\n"
   ]
  },
  {
   "cell_type": "code",
   "execution_count": 124,
   "id": "3ce0aaef-ad7c-4ce4-ba5b-df1b3035dd5c",
   "metadata": {},
   "outputs": [],
   "source": [
    "# for customers table\n",
    "\n",
    "customers_df[\"registration_date\"] = customers_df[\"registration_date\"].ffill()"
   ]
  },
  {
   "cell_type": "code",
   "execution_count": 126,
   "id": "bee90ce7-fce9-49a7-9972-25c1944dc2d8",
   "metadata": {},
   "outputs": [],
   "source": [
    "# for sales table\n",
    "\n",
    "sales_df[\"date\"] = sales_df[\"date\"].bfill()"
   ]
  },
  {
   "cell_type": "code",
   "execution_count": 127,
   "id": "2e487064-615f-4ea8-8b5c-71de4ab57073",
   "metadata": {},
   "outputs": [],
   "source": [
    "#for inventory table\n",
    "\n",
    "inventory_df[\"last_restock_date\"] = inventory_df[\"last_restock_date\"].ffill()"
   ]
  },
  {
   "cell_type": "code",
   "execution_count": 128,
   "id": "3aee14e3-9708-4583-bb55-9dbdf4341617",
   "metadata": {},
   "outputs": [
    {
     "name": "stdout",
     "output_type": "stream",
     "text": [
      "\n",
      "--- Customers Missing Values ---\n",
      "customer_id          0\n",
      "first_name           0\n",
      "last_name            0\n",
      "email                3\n",
      "phone                2\n",
      "address              0\n",
      "city                 0\n",
      "state                0\n",
      "zip_code             0\n",
      "registration_date    0\n",
      "dtype: int64\n",
      "\n",
      "--- Products Missing Values ---\n",
      "product_id      0\n",
      "product_name    0\n",
      "category        0\n",
      "subcategory     0\n",
      "brand           0\n",
      "price           0\n",
      "cost            0\n",
      "weight          0\n",
      "dtype: int64\n",
      "\n",
      "--- Stores Missing Values ---\n",
      "store_id        0\n",
      "store_name      0\n",
      "address         0\n",
      "city            0\n",
      "state           0\n",
      "zip_code        0\n",
      "region          0\n",
      "size_sqft       0\n",
      "opening_date    1\n",
      "dtype: int64\n",
      "\n",
      "--- Sales Missing Values ---\n",
      "sale_id           0\n",
      "date              0\n",
      "store_id          1\n",
      "customer_id       0\n",
      "product_id        0\n",
      "quantity          0\n",
      "total             0\n",
      "payment_method    0\n",
      "dtype: int64\n",
      "\n",
      "--- Inventory Missing Values ---\n",
      "inventory_id         0\n",
      "store_id             0\n",
      "product_id           0\n",
      "quantity_in_stock    0\n",
      "last_restock_date    0\n",
      "reorder_level        0\n",
      "dtype: int64\n"
     ]
    }
   ],
   "source": [
    "# finally checking for missing values\n",
    "\n",
    "dataframes = {\n",
    "    \"Customers\": customers_df,\n",
    "    \"Products\": products_df,\n",
    "    \"Stores\": stores_df,\n",
    "    \"Sales\": sales_df,\n",
    "    \"Inventory\": inventory_df\n",
    "}\n",
    "for name, df in dataframes.items():\n",
    "    print(f\"\\n--- {name} Missing Values ---\")\n",
    "    print(df.isnull().sum())\n"
   ]
  },
  {
   "cell_type": "code",
   "execution_count": 140,
   "id": "992965c4-feba-491a-9b58-86034daf2552",
   "metadata": {},
   "outputs": [
    {
     "name": "stdout",
     "output_type": "stream",
     "text": [
      "number of duplicates in customer dataframe:\n",
      "0\n",
      "number of duplicates in product dataframe:\n",
      "0\n"
     ]
    },
    {
     "data": {
      "text/html": [
       "<div>\n",
       "<style scoped>\n",
       "    .dataframe tbody tr th:only-of-type {\n",
       "        vertical-align: middle;\n",
       "    }\n",
       "\n",
       "    .dataframe tbody tr th {\n",
       "        vertical-align: top;\n",
       "    }\n",
       "\n",
       "    .dataframe thead th {\n",
       "        text-align: right;\n",
       "    }\n",
       "</style>\n",
       "<table border=\"1\" class=\"dataframe\">\n",
       "  <thead>\n",
       "    <tr style=\"text-align: right;\">\n",
       "      <th></th>\n",
       "      <th>inventory_id</th>\n",
       "      <th>store_id</th>\n",
       "      <th>product_id</th>\n",
       "      <th>quantity_in_stock</th>\n",
       "      <th>last_restock_date</th>\n",
       "      <th>reorder_level</th>\n",
       "    </tr>\n",
       "  </thead>\n",
       "  <tbody>\n",
       "  </tbody>\n",
       "</table>\n",
       "</div>"
      ],
      "text/plain": [
       "Empty DataFrame\n",
       "Columns: [inventory_id, store_id, product_id, quantity_in_stock, last_restock_date, reorder_level]\n",
       "Index: []"
      ]
     },
     "execution_count": 140,
     "metadata": {},
     "output_type": "execute_result"
    }
   ],
   "source": [
    "# Part 2 data Cleaning\n",
    "# 2. Removing Duplicates:\n",
    "# Check for and remove any duplicate entries in the customers and products dataframes\n",
    "\n",
    "print(\"number of duplicates in customer dataframe:\")\n",
    "print(customers_df.duplicated().sum())\n",
    "\n",
    "\n",
    "print(\"number of duplicates in product dataframe:\")\n",
    "print(products_df.duplicated().sum())\n",
    "\n",
    "df[df.duplicated()]\n"
   ]
  },
  {
   "cell_type": "code",
   "execution_count": null,
   "id": "16aeabcc-df1f-490f-aac9-8fa7b73f663d",
   "metadata": {},
   "outputs": [],
   "source": [
    "# Explain your approach for identifying duplicates\n",
    "# check how many duplicates exist in customer and product dataframe:\n",
    "# if found, i remove them carefully with .drop_duplicates()"
   ]
  },
  {
   "cell_type": "code",
   "execution_count": null,
   "id": "e7a8c8a5-3e74-41d4-88f8-4b2d67f508b0",
   "metadata": {},
   "outputs": [],
   "source": []
  }
 ],
 "metadata": {
  "kernelspec": {
   "display_name": "Python [conda env:base] *",
   "language": "python",
   "name": "conda-base-py"
  },
  "language_info": {
   "codemirror_mode": {
    "name": "ipython",
    "version": 3
   },
   "file_extension": ".py",
   "mimetype": "text/x-python",
   "name": "python",
   "nbconvert_exporter": "python",
   "pygments_lexer": "ipython3",
   "version": "3.13.5"
  }
 },
 "nbformat": 4,
 "nbformat_minor": 5
}
